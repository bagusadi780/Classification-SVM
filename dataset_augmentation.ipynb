{
  "nbformat": 4,
  "nbformat_minor": 0,
  "metadata": {
    "kernelspec": {
      "display_name": "Python 3",
      "language": "python",
      "name": "python3"
    },
    "language_info": {
      "codemirror_mode": {
        "name": "ipython",
        "version": 3
      },
      "file_extension": ".py",
      "mimetype": "text/x-python",
      "name": "python",
      "nbconvert_exporter": "python",
      "pygments_lexer": "ipython3",
      "version": "3.7.4"
    },
    "colab": {
      "provenance": [],
      "include_colab_link": true
    }
  },
  "cells": [
    {
      "cell_type": "markdown",
      "metadata": {
        "id": "view-in-github",
        "colab_type": "text"
      },
      "source": [
        "<a href=\"https://colab.research.google.com/github/bagusadi780/Classification-SVM/blob/main/dataset_augmentation.ipynb\" target=\"_parent\"><img src=\"https://colab.research.google.com/assets/colab-badge.svg\" alt=\"Open In Colab\"/></a>"
      ]
    },
    {
      "cell_type": "code",
      "metadata": {
        "id": "_YHb6FEiUKHS"
      },
      "source": [
        "import cv2\n",
        "import os\n",
        "from tqdm import tqdm\n",
        "from keras.preprocessing.image import ImageDataGenerator\n",
        "from skimage import io"
      ],
      "execution_count": null,
      "outputs": []
    },
    {
      "cell_type": "code",
      "metadata": {
        "id": "jHk9QdikUKHb"
      },
      "source": [
        "CLASSES = [\"healthy\", \"brownspot\", \"hispa\", \"leafblast\"]\n",
        "folder = \"/content/drive/MyDrive/revisi/250/dataset\"\n",
        "healthy = []\n",
        "brownspot = []\n",
        "hispa = []\n",
        "leafblast = []\n",
        "\n",
        "def append_img(list_name):\n",
        "    for img in tqdm(os.listdir(path)):  # iterate over each image per folder\n",
        "            try:\n",
        "                img = cv2.imread(os.path.join(path,img))  # read image into array\n",
        "                list_name.append(img)\n",
        "            except Exception as e:\n",
        "                print(\"error\")"
      ],
      "execution_count": null,
      "outputs": []
    },
    {
      "cell_type": "code",
      "source": [
        "from google.colab import drive\n",
        "drive.mount('/content/drive')"
      ],
      "metadata": {
        "colab": {
          "base_uri": "https://localhost:8080/"
        },
        "id": "35thuUwZEp-T",
        "outputId": "50ef1d9f-e85e-48d9-9138-9c3871c7cc8f"
      },
      "execution_count": null,
      "outputs": [
        {
          "output_type": "stream",
          "name": "stdout",
          "text": [
            "Mounted at /content/drive\n"
          ]
        }
      ]
    },
    {
      "cell_type": "code",
      "metadata": {
        "id": "Y045aVYJUKHd",
        "outputId": "b0151cab-9ef8-4285-8052-0b59f5a7040d",
        "colab": {
          "base_uri": "https://localhost:8080/"
        }
      },
      "source": [
        "for c in CLASSES:\n",
        "\n",
        "    if (c == \"healthy\"):\n",
        "        path = os.path.join(folder,c)  # create path to dataset folder\n",
        "        append_img(healthy)\n",
        "    elif (c == \"brownspot\"):\n",
        "        path = os.path.join(folder,c)  # create path to dataset folder\n",
        "        append_img(brownspot)\n",
        "    elif (c == \"hispa\"):\n",
        "        path = os.path.join(folder,c)  # create path to dataset folder\n",
        "        append_img(hispa)\n",
        "    elif (c == \"leafblast\"):\n",
        "        path = os.path.join(folder,c)  # create path to dataset folder\n",
        "        append_img(leafblast)\n",
        "    # elif (c == \"ill\"):\n",
        "        # for i, s in enumerate(SUBCLASSES):\n",
        "        #     path = os.path.join(folder,c,s) # create path to ill subfolders\n",
        "        #     if (i == 0):\n",
        "        #         append_img(brownspot)\n",
        "        #     elif (i == 1):\n",
        "        #         append_img(hispa)\n",
        "        #     elif (i == 2):\n",
        "        #         append_img(leafblast)"
      ],
      "execution_count": null,
      "outputs": [
        {
          "output_type": "stream",
          "name": "stderr",
          "text": [
            "100%|██████████| 250/250 [00:05<00:00, 48.74it/s] \n",
            "100%|██████████| 250/250 [00:04<00:00, 57.55it/s] \n",
            "100%|██████████| 250/250 [00:04<00:00, 52.00it/s] \n",
            "100%|██████████| 250/250 [00:04<00:00, 56.07it/s] \n"
          ]
        }
      ]
    },
    {
      "cell_type": "code",
      "metadata": {
        "id": "sFn9Gss_UKHg"
      },
      "source": [
        "datagen = ImageDataGenerator(\n",
        "            rotation_range=45,  # rotate image randomly between 0 to 45 degrees\n",
        "            shear_range=0.2,    # shear image by 20%\n",
        "            horizontal_flip=True,   # flip the image horizontally\n",
        "            fill_mode='nearest')    # fill the area with the nearest pixel by stretching\n",
        "\n",
        "def flow_save(list_name, save_dir):\n",
        "    i = 0\n",
        "    for img in tqdm(list_name):\n",
        "        i += 1\n",
        "        filename = 'aug_' + str(i)\n",
        "        # this is to prevent same autogenerated filenames that can cause overwritten files...\n",
        "        # ...which can affect the number of images generated\n",
        "        img = cv2.cvtColor(img, cv2.COLOR_RGB2BGR)\n",
        "        img = img.reshape((1, ) + img.shape)\n",
        "        for batch in datagen.flow(img, batch_size=32,\n",
        "                                  save_to_dir=save_dir,\n",
        "                                  save_prefix=filename,\n",
        "                                  save_format='jpg'):\n",
        "            break"
      ],
      "execution_count": null,
      "outputs": []
    },
    {
      "cell_type": "code",
      "metadata": {
        "scrolled": true,
        "id": "R5YrdPHxUKHh",
        "outputId": "f5b2b708-337b-44a1-ff3d-d32764220a7e",
        "colab": {
          "base_uri": "https://localhost:8080/"
        }
      },
      "source": [
        "flow_save(healthy, '/content/drive/MyDrive/revisi/250/augmented images/healthy')\n",
        "flow_save(brownspot, '/content/drive/MyDrive/revisi/250/augmented images/brownspot')\n",
        "flow_save(hispa, '/content/drive/MyDrive/revisi/250/augmented images/hispa')\n",
        "flow_save(leafblast, '/content/drive/MyDrive/revisi/250/augmented images/leafblast')"
      ],
      "execution_count": null,
      "outputs": [
        {
          "output_type": "stream",
          "name": "stderr",
          "text": [
            "100%|██████████| 250/250 [00:05<00:00, 45.85it/s]\n",
            "100%|██████████| 250/250 [00:05<00:00, 45.37it/s]\n",
            "100%|██████████| 250/250 [00:05<00:00, 47.13it/s]\n",
            "100%|██████████| 250/250 [00:05<00:00, 46.66it/s]\n"
          ]
        }
      ]
    }
  ]
}