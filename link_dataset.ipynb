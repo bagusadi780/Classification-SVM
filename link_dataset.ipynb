{
  "nbformat": 4,
  "nbformat_minor": 0,
  "metadata": {
    "colab": {
      "provenance": [],
      "authorship_tag": "ABX9TyM7yy7j9Zm1ZvKDhIFuF7Kl",
      "include_colab_link": true
    },
    "kernelspec": {
      "name": "python3",
      "display_name": "Python 3"
    },
    "language_info": {
      "name": "python"
    }
  },
  "cells": [
    {
      "cell_type": "markdown",
      "metadata": {
        "id": "view-in-github",
        "colab_type": "text"
      },
      "source": [
        "<a href=\"https://colab.research.google.com/github/bagusadi780/Classification-SVM/blob/main/link_dataset.ipynb\" target=\"_parent\"><img src=\"https://colab.research.google.com/assets/colab-badge.svg\" alt=\"Open In Colab\"/></a>"
      ]
    },
    {
      "cell_type": "code",
      "execution_count": null,
      "metadata": {
        "id": "7JuG4TDv2ytO"
      },
      "outputs": [],
      "source": [
        "https://drive.google.com/drive/folders/16mHdghamuhmunBbUJTbZOYSmTTx9LT_f?usp=drive_link"
      ]
    }
  ]
}